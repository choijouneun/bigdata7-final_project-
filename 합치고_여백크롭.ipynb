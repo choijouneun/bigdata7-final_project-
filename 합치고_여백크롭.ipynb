{
 "cells": [
  {
   "cell_type": "markdown",
   "metadata": {},
   "source": [
    "# 이미지 합치는 코드"
   ]
  },
  {
   "cell_type": "code",
   "execution_count": 64,
   "metadata": {},
   "outputs": [],
   "source": [
    "from PIL import Image\n",
    "\n",
    "def merge_images_with_crop(image_a_path, image_b_path, output_path, crop_width):\n",
    "    # 이미지 열기\n",
    "    image_a = Image.open(image_a_path)\n",
    "    image_b = Image.open(image_b_path)\n",
    "    \n",
    "    # 두 이미지의 크기 가져오기\n",
    "    width_a, height_a = image_a.size\n",
    "    width_b, height_b = image_b.size\n",
    "    \n",
    "    # 두 번째 이미지를 왼쪽에서 crop_width 만큼 자르기\n",
    "    image_b_cropped = image_b.crop((0, 0, width_b - crop_width, height_b))\n",
    "    width_b_cropped, height_b_cropped = image_b_cropped.size\n",
    "    \n",
    "    # 새로운 이미지 크기 계산 (너비는 첫 번째 이미지의 너비, 높이는 첫 번째 이미지의 높이 + 자른 두 번째 이미지의 높이 + 여백)\n",
    "    new_width = width_a\n",
    "    new_height = height_a + height_b_cropped + 300  # 아래쪽 여백 300 픽셀 추가\n",
    "    \n",
    "    # 새로운 빈 이미지 생성 (흰색 배경)\n",
    "    new_image = Image.new(\"RGB\", (new_width, new_height), (255, 255, 255))\n",
    "    \n",
    "    # 첫 번째 이미지 붙여넣기\n",
    "    new_image.paste(image_a, (0, 0))\n",
    "    \n",
    "    # 자른 두 번째 이미지 붙여넣기 (여백을 두고 아래쪽에 배치)\n",
    "    new_image.paste(image_b_cropped, (new_width - width_b_cropped, height_a + 100))\n",
    "    \n",
    "    # 결과 이미지 저장\n",
    "    new_image.save(output_path)\n",
    "\n",
    "# 사용 예시\n",
    "merge_images_with_crop(r\"C:\\Users\\BIG3-06\\Documents\\KDT_Bigdata_7\\0614-0726_Final_project\\preprocessing\\math_croped_G2\\2015_G2_9_MATH_A\\cropped\\MATH_G2_2015_09_A_13 - 복사본.png\", \n",
    "                      r\"C:\\Users\\BIG3-06\\Documents\\KDT_Bigdata_7\\0614-0726_Final_project\\preprocessing\\math_croped_G2\\2015_G2_9_MATH_A\\cropped\\MATH_G2_2015_09_A_14.png\",\n",
    "                      r\"C:\\Users\\BIG3-06\\Documents\\KDT_Bigdata_7\\0614-0726_Final_project\\preprocessing\\math_croped_G2\\2015_G2_9_MATH_A\\cropped\\MATH_G2_2015_09_A_14 - 복사본.png\",\n",
    "                      crop_width=200)  # crop_width 값을 원하는 만큼 설정\n"
   ]
  },
  {
   "cell_type": "markdown",
   "metadata": {},
   "source": [
    "# 여백 자르는 코드"
   ]
  },
  {
   "cell_type": "code",
   "execution_count": 3,
   "metadata": {},
   "outputs": [
    {
     "name": "stdout",
     "output_type": "stream",
     "text": [
      "Cropped image saved to D:\\final_project\\data\\KOR\\kor_crop\\KOR_G2_2015_03_CROP\\0_1_last.png\n",
      "Cropped image saved to D:\\final_project\\data\\KOR\\kor_crop\\KOR_G2_2015_03_CROP\\10_16_last.png\n",
      "Cropped image saved to D:\\final_project\\data\\KOR\\kor_crop\\KOR_G2_2015_03_CROP\\11_16_0.png\n",
      "Cropped image saved to D:\\final_project\\data\\KOR\\kor_crop\\KOR_G2_2015_03_CROP\\12_top_to_first.png\n",
      "Cropped image saved to D:\\final_project\\data\\KOR\\kor_crop\\KOR_G2_2015_03_CROP\\13_20_0.png\n",
      "Cropped image saved to D:\\final_project\\data\\KOR\\kor_crop\\KOR_G2_2015_03_CROP\\13_top_to_first.png\n",
      "Cropped image saved to D:\\final_project\\data\\KOR\\kor_crop\\KOR_G2_2015_03_CROP\\14_23_0.png\n",
      "Cropped image saved to D:\\final_project\\data\\KOR\\kor_crop\\KOR_G2_2015_03_CROP\\15_top_to_first.png\n",
      "Cropped image saved to D:\\final_project\\data\\KOR\\kor_crop\\KOR_G2_2015_03_CROP\\16_26_0.png\n",
      "Cropped image saved to D:\\final_project\\data\\KOR\\kor_crop\\KOR_G2_2015_03_CROP\\17_28_0.png\n",
      "Cropped image saved to D:\\final_project\\data\\KOR\\kor_crop\\KOR_G2_2015_03_CROP\\17_top_to_first.png\n",
      "Cropped image saved to D:\\final_project\\data\\KOR\\kor_crop\\KOR_G2_2015_03_CROP\\18_30_0.png\n",
      "Cropped image saved to D:\\final_project\\data\\KOR\\kor_crop\\KOR_G2_2015_03_CROP\\19_top_to_first.png\n",
      "Cropped image saved to D:\\final_project\\data\\KOR\\kor_crop\\KOR_G2_2015_03_CROP\\1_top_to_first.png\n",
      "Cropped image saved to D:\\final_project\\data\\KOR\\kor_crop\\KOR_G2_2015_03_CROP\\20_34_last.png\n",
      "Cropped image saved to D:\\final_project\\data\\KOR\\kor_crop\\KOR_G2_2015_03_CROP\\21_whole_image.png\n",
      "Cropped image saved to D:\\final_project\\data\\KOR\\kor_crop\\KOR_G2_2015_03_CROP\\22_34_0.png\n",
      "Cropped image saved to D:\\final_project\\data\\KOR\\kor_crop\\KOR_G2_2015_03_CROP\\23_37_0.png\n",
      "Cropped image saved to D:\\final_project\\data\\KOR\\kor_crop\\KOR_G2_2015_03_CROP\\24_whole_image.png\n",
      "Cropped image saved to D:\\final_project\\data\\KOR\\kor_crop\\KOR_G2_2015_03_CROP\\26_42_last.png\n",
      "Cropped image saved to D:\\final_project\\data\\KOR\\kor_crop\\KOR_G2_2015_03_CROP\\27_42_0.png\n",
      "Cropped image saved to D:\\final_project\\data\\KOR\\kor_crop\\KOR_G2_2015_03_CROP\\27_top_to_first.png\n",
      "Cropped image saved to D:\\final_project\\data\\KOR\\kor_crop\\KOR_G2_2015_03_CROP\\28_whole_image.png\n",
      "Cropped image saved to D:\\final_project\\data\\KOR\\kor_crop\\KOR_G2_2015_03_CROP\\29_whole_image.png\n",
      "Cropped image saved to D:\\final_project\\data\\KOR\\kor_crop\\KOR_G2_2015_03_CROP\\2_3_last.png\n",
      "Cropped image saved to D:\\final_project\\data\\KOR\\kor_crop\\KOR_G2_2015_03_CROP\\3_3_0.png\n",
      "Cropped image saved to D:\\final_project\\data\\KOR\\kor_crop\\KOR_G2_2015_03_CROP\\3_4_1.png\n",
      "Cropped image saved to D:\\final_project\\data\\KOR\\kor_crop\\KOR_G2_2015_03_CROP\\4_1_1.png\n",
      "Cropped image saved to D:\\final_project\\data\\KOR\\kor_crop\\KOR_G2_2015_03_CROP\\4_6_0.png\n",
      "Cropped image saved to D:\\final_project\\data\\KOR\\kor_crop\\KOR_G2_2015_03_CROP\\5_6_0.png\n",
      "Cropped image saved to D:\\final_project\\data\\KOR\\kor_crop\\KOR_G2_2015_03_CROP\\5_top_to_first.png\n",
      "Cropped image saved to D:\\final_project\\data\\KOR\\kor_crop\\KOR_G2_2015_03_CROP\\6_8_0.png\n",
      "Cropped image saved to D:\\final_project\\data\\KOR\\kor_crop\\KOR_G2_2015_03_CROP\\7_top_to_first.png\n",
      "Cropped image saved to D:\\final_project\\data\\KOR\\kor_crop\\KOR_G2_2015_03_CROP\\8_12_last.png\n",
      "Cropped image saved to D:\\final_project\\data\\KOR\\kor_crop\\KOR_G2_2015_03_CROP\\9_14_0.png\n"
     ]
    },
    {
     "ename": "",
     "evalue": "",
     "output_type": "error",
     "traceback": [
      "\u001b[1;31mThe Kernel crashed while executing code in the current cell or a previous cell. \n",
      "\u001b[1;31mPlease review the code in the cell(s) to identify a possible cause of the failure. \n",
      "\u001b[1;31mClick <a href='https://aka.ms/vscodeJupyterKernelCrash'>here</a> for more info. \n",
      "\u001b[1;31mView Jupyter <a href='command:jupyter.viewOutput'>log</a> for further details."
     ]
    }
   ],
   "source": [
    "from PIL import Image\n",
    "import numpy as np\n",
    "import os\n",
    "\n",
    "def trim_whitespace(image_path, output_path):\n",
    "    # 이미지 열기\n",
    "    image = Image.open(image_path)\n",
    "    \n",
    "    # 이미지를 numpy 배열로 변환\n",
    "    np_image = np.array(image)\n",
    "    \n",
    "    # 흰색이 아닌 픽셀의 경계를 찾기\n",
    "    mask = np_image[:, :, :3] != 255  # RGB 채널에서 흰색(255, 255, 255)이 아닌 부분을 찾기\n",
    "    coords = np.argwhere(mask)\n",
    "\n",
    "    if coords.size == 0:  # 만약 흰색이 아닌 픽셀이 없다면\n",
    "        print(f\"No non-white pixels found in {image_path}\")\n",
    "        return\n",
    "    \n",
    "    # 경계 좌표 가져오기\n",
    "    x0, y0 = coords.min(axis=0)[:2]\n",
    "    x1, y1 = coords.max(axis=0)[:2] + 1  # max 좌표는 포함되지 않으므로 +1\n",
    "    \n",
    "    # 이미지를 자르기\n",
    "    cropped_image = image.crop((y0, x0, y1, x1))\n",
    "    \n",
    "    # 결과 이미지 저장\n",
    "    cropped_image.save(output_path)\n",
    "    print(f\"Cropped image saved to {output_path}\")\n",
    "\n",
    "def process_images(folder):\n",
    "    # 입력 폴더 내의 모든 파일을 확인\n",
    "    for filename in os.listdir(folder):\n",
    "        if filename.endswith(\".png\"):  # PNG 파일만 처리\n",
    "            image_path = os.path.join(folder, filename)\n",
    "            \n",
    "            # 여백 자르기 함수 호출\n",
    "            trim_whitespace(image_path, image_path)\n",
    "\n",
    "folder = r'D:\\final_project\\data\\KOR\\kor_crop\\KOR_G2_2015_03_CROP'\n",
    "\n",
    "# 이미지 처리 시작\n",
    "process_images(folder)"
   ]
  },
  {
   "cell_type": "code",
   "execution_count": null,
   "metadata": {},
   "outputs": [],
   "source": []
  }
 ],
 "metadata": {
  "kernelspec": {
   "display_name": "newa",
   "language": "python",
   "name": "python3"
  },
  "language_info": {
   "codemirror_mode": {
    "name": "ipython",
    "version": 3
   },
   "file_extension": ".py",
   "mimetype": "text/x-python",
   "name": "python",
   "nbconvert_exporter": "python",
   "pygments_lexer": "ipython3",
   "version": "3.12.3"
  }
 },
 "nbformat": 4,
 "nbformat_minor": 2
}
